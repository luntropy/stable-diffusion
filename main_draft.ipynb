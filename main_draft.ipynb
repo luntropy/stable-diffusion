{
  "nbformat": 4,
  "nbformat_minor": 0,
  "metadata": {
    "colab": {
      "provenance": [],
      "gpuType": "T4"
    },
    "kernelspec": {
      "name": "python3",
      "display_name": "Python 3"
    },
    "language_info": {
      "name": "python"
    },
    "accelerator": "GPU"
  },
  "cells": [
    {
      "cell_type": "code",
      "source": [
        "# https://huggingface.co/Ojimi/anime-kawai-diffusion\n",
        "# https://github.com/KichangKim/DeepDanbooru\n",
        "# https://github.com/huggingface/diffusers/blob/main/src/diffusers/pipelines/stable_diffusion/pipeline_stable_diffusion.py"
      ],
      "metadata": {
        "id": "CEre5G7VO715"
      },
      "execution_count": null,
      "outputs": []
    },
    {
      "cell_type": "code",
      "source": [
        "! nvidia-smi"
      ],
      "metadata": {
        "id": "zN2uaOP4fdQT"
      },
      "execution_count": null,
      "outputs": []
    },
    {
      "cell_type": "code",
      "source": [
        "! pip install diffusers\n",
        "! pip install transformers accelerate\n",
        "! pip install torch torchvision -U"
      ],
      "metadata": {
        "id": "NclwmcTVQa5U"
      },
      "execution_count": null,
      "outputs": []
    },
    {
      "cell_type": "code",
      "source": [
        "import torch\n",
        "\n",
        "torch.__version__"
      ],
      "metadata": {
        "id": "X5Ba_9fCfzmP"
      },
      "execution_count": null,
      "outputs": []
    },
    {
      "cell_type": "code",
      "execution_count": null,
      "metadata": {
        "id": "crqWKUG1QTUo"
      },
      "outputs": [],
      "source": [
        "from PIL import Image\n",
        "from diffusers import StableDiffusionImg2ImgPipeline\n",
        "\n",
        "model_id_or_path = 'Ojimi/anime-kawai-diffusion'\n",
        "torch_dtype = torch.float32\n",
        "\n",
        "# model_id_or_path = \"runwayml/stable-diffusion-v1-5\"\n",
        "# torch_dtype=torch.float16\n",
        "\n",
        "pipe = StableDiffusionImg2ImgPipeline.from_pretrained(model_id_or_path, torch_dtype = torch_dtype)\n",
        "pipe = pipe.to('cuda')"
      ]
    },
    {
      "cell_type": "markdown",
      "source": [
        "### Girl"
      ],
      "metadata": {
        "id": "VAIXnezUw5jG"
      }
    },
    {
      "cell_type": "code",
      "source": [
        "import tempfile"
      ],
      "metadata": {
        "id": "LmmDC_Vl9nsU"
      },
      "execution_count": null,
      "outputs": []
    },
    {
      "cell_type": "code",
      "source": [
        "load_loc = 'templates'\n",
        "save_loc = 'outputs'"
      ],
      "metadata": {
        "id": "2hQ-ps5tAK12"
      },
      "execution_count": null,
      "outputs": []
    },
    {
      "cell_type": "code",
      "source": [
        "# init_image = Image.open(\"{load_loc}/ariana.jpg\").convert(\"RGB\").resize((400, 500))#.resize((768, 512))"
      ],
      "metadata": {
        "id": "DnK25LoZQwNb"
      },
      "execution_count": null,
      "outputs": []
    },
    {
      "cell_type": "code",
      "source": [
        "init_image = Image.open(f\"{load_loc}/img_2.jpg\").convert(\"RGB\").resize((400, 500))#.resize((768, 512))"
      ],
      "metadata": {
        "id": "ucx76VUn_5Z1"
      },
      "execution_count": null,
      "outputs": []
    },
    {
      "cell_type": "code",
      "source": [
        "# Initial from the demo\n",
        "# prompt = \"1girl, animal ears, long hair, solo, cat ears, choker, bare shoulders, red eyes, fang, looking at viewer, animal ear fluff, upper body, black hair, blush, closed mouth, off shoulder, bangs, bow, collarbone\""
      ],
      "metadata": {
        "id": "zV4C3lTMkeby"
      },
      "execution_count": null,
      "outputs": []
    },
    {
      "cell_type": "code",
      "source": [
        "# prompt = \"Upper body, fractal art, Masterpiece, top quality, best quality, official art, beautiful, aesthetic, looking at viewer, dynamic pose, perfect angle, long hair, petite, beautiful skin, background, detailed eyes, muted color, depth of field, volumetric lighting, reflection, finest detail, ultra detailed, perfect face, epic proportion, epic composition, professional work\"\n",
        "# prompt = \"Upper body, fractal art, top quality, official art, beautiful, aesthetic, looking at viewer, dynamic pose, perfect angle, long hair, petite, beautiful skin, background, detailed eyes, muted color, depth of field, volumetric lighting, reflection, finest detail, ultra detailed, perfect face, epic proportion, epic composition, professional work\""
      ],
      "metadata": {
        "id": "v9KMec10v2Yd"
      },
      "execution_count": null,
      "outputs": []
    },
    {
      "cell_type": "code",
      "source": [
        "prompt = \"Upper body, official art, beautiful, aesthetic, looking at viewer, dynamic pose, perfect angle, long hair, petite, beautiful skin, background, beautiful detailed eyes, muted color, depth of field, volumetric lighting, reflection, finest detail, ultra detailed, perfect face, epic proportion, epic composition, professional work\""
      ],
      "metadata": {
        "id": "Nb_HOggx19BR"
      },
      "execution_count": null,
      "outputs": []
    },
    {
      "cell_type": "code",
      "source": [
        "# prompt = \"1girl, long hair, solo, bare shoulders, looking at viewer, upper body, blush, closed mouth, off shoulder, collarbone\""
      ],
      "metadata": {
        "id": "Psn4gxnVtaZm"
      },
      "execution_count": null,
      "outputs": []
    },
    {
      "cell_type": "code",
      "source": [
        "# prompt = \"1girl, long hair, solo, looking at viewer, blush, upper boddy, good anatomy, spring, white dress, pony tail, small breasts\""
      ],
      "metadata": {
        "id": "RFwELyLowIlm"
      },
      "execution_count": null,
      "outputs": []
    },
    {
      "cell_type": "code",
      "source": [
        "negative_prompt = 'lowres, bad anatomy'"
      ],
      "metadata": {
        "id": "bZLPPeDMs3Uo"
      },
      "execution_count": null,
      "outputs": []
    },
    {
      "cell_type": "code",
      "source": [
        "temp = tempfile.NamedTemporaryFile()\n",
        "temp_name = temp.name.split('/')[-1]\n",
        "print(temp_name)\n",
        "\n",
        "images = pipe(prompt=prompt, image=init_image, strength=0.75, guidance_scale=3.5).images\n",
        "images[0].save(f\"{save_loc}/{temp_name}.png\")"
      ],
      "metadata": {
        "id": "sJqRqQRakZ3W"
      },
      "execution_count": null,
      "outputs": []
    },
    {
      "cell_type": "code",
      "source": [
        "temp = tempfile.NamedTemporaryFile()\n",
        "temp_name = temp.name.split('/')[-1]\n",
        "print(temp_name)\n",
        "\n",
        "images = pipe(prompt=prompt, negative_prompt = negative_prompt, image=init_image, strength=0.75, guidance_scale=3.5).images\n",
        "images[0].save(f\"{save_loc}/{temp_name}.png\")"
      ],
      "metadata": {
        "id": "EGOCYDFm0LvL"
      },
      "execution_count": null,
      "outputs": []
    },
    {
      "cell_type": "code",
      "source": [
        "temp = tempfile.NamedTemporaryFile()\n",
        "temp_name = temp.name.split('/')[-1]\n",
        "print(temp_name)\n",
        "\n",
        "images = pipe(prompt=prompt, negative_prompt = negative_prompt, image=init_image, strength=0.75, guidance_scale=10).images\n",
        "images[0].save(f\"{save_loc}/{temp_name}.png\")"
      ],
      "metadata": {
        "id": "YJS3SIqIkZ5t"
      },
      "execution_count": null,
      "outputs": []
    },
    {
      "cell_type": "code",
      "source": [
        "temp = tempfile.NamedTemporaryFile()\n",
        "temp_name = temp.name.split('/')[-1]\n",
        "print(temp_name)\n",
        "\n",
        "images = pipe(prompt=prompt, negative_prompt = negative_prompt, image=init_image, strength=0.85, guidance_scale=1.5).images\n",
        "images[0].save(f\"{save_loc}/{temp_name}.png\")"
      ],
      "metadata": {
        "id": "wNZRJiXMzmQ-"
      },
      "execution_count": null,
      "outputs": []
    },
    {
      "cell_type": "code",
      "source": [
        "temp = tempfile.NamedTemporaryFile()\n",
        "temp_name = temp.name.split('/')[-1]\n",
        "print(temp_name)\n",
        "\n",
        "images = pipe(prompt=prompt, negative_prompt = negative_prompt, image=init_image, strength=0.70, guidance_scale=2.0).images\n",
        "images[0].save(f\"{save_loc}/{temp_name}.png\")"
      ],
      "metadata": {
        "id": "yVAIkFU3oQhO"
      },
      "execution_count": null,
      "outputs": []
    },
    {
      "cell_type": "code",
      "source": [
        "temp = tempfile.NamedTemporaryFile()\n",
        "temp_name = temp.name.split('/')[-1]\n",
        "print(temp_name)\n",
        "\n",
        "images = pipe(prompt=prompt, negative_prompt = negative_prompt, image=init_image, guidance_scale=7.5, num_inference_steps = 28).images\n",
        "images[0].save(f\"{save_loc}/{temp_name}.png\")"
      ],
      "metadata": {
        "id": "dR-qmOnurk4T"
      },
      "execution_count": null,
      "outputs": []
    },
    {
      "cell_type": "code",
      "source": [],
      "metadata": {
        "id": "Kyu39UXWN7w-"
      },
      "execution_count": null,
      "outputs": []
    },
    {
      "cell_type": "code",
      "source": [],
      "metadata": {
        "id": "miTFKWcnrk7k"
      },
      "execution_count": null,
      "outputs": []
    },
    {
      "cell_type": "code",
      "source": [
        "! rm outputs/*"
      ],
      "metadata": {
        "id": "ITWZuianpm0C"
      },
      "execution_count": null,
      "outputs": []
    },
    {
      "cell_type": "code",
      "source": [],
      "metadata": {
        "id": "YGqtRXu33Yri"
      },
      "execution_count": null,
      "outputs": []
    },
    {
      "cell_type": "code",
      "source": [],
      "metadata": {
        "id": "osrD9114o4QR"
      },
      "execution_count": null,
      "outputs": []
    }
  ]
}