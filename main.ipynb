{
  "nbformat": 4,
  "nbformat_minor": 0,
  "metadata": {
    "colab": {
      "provenance": [],
      "gpuType": "T4"
    },
    "kernelspec": {
      "name": "python3",
      "display_name": "Python 3"
    },
    "language_info": {
      "name": "python"
    },
    "accelerator": "GPU"
  },
  "cells": [
    {
      "cell_type": "markdown",
      "source": [
        "# Stable diffusion experiments"
      ],
      "metadata": {
        "id": "WZDD9zthtu8U"
      }
    },
    {
      "cell_type": "markdown",
      "source": [
        "## Env. setup"
      ],
      "metadata": {
        "id": "vcSPk181u3HP"
      }
    },
    {
      "cell_type": "code",
      "source": [
        "! nvidia-smi"
      ],
      "metadata": {
        "id": "4-qoeDyFtwa3"
      },
      "execution_count": null,
      "outputs": []
    },
    {
      "cell_type": "code",
      "source": [
        "! pip install -q diffusers\n",
        "! pip install -q transformers accelerate\n",
        "! pip install -q torch torchvision -U"
      ],
      "metadata": {
        "id": "7AZzOVtnuGH4"
      },
      "execution_count": null,
      "outputs": []
    },
    {
      "cell_type": "code",
      "source": [
        "import os\n",
        "import torch\n",
        "import tempfile\n",
        "from PIL import Image\n",
        "import matplotlib.pyplot as plt\n",
        "\n",
        "from diffusers import StableDiffusionImg2ImgPipeline"
      ],
      "metadata": {
        "id": "cLV4msvwuwjR"
      },
      "execution_count": null,
      "outputs": []
    },
    {
      "cell_type": "code",
      "source": [
        "torch.__version__"
      ],
      "metadata": {
        "id": "ll1cDfoBvGGw"
      },
      "execution_count": null,
      "outputs": []
    },
    {
      "cell_type": "markdown",
      "source": [
        "### Global Env. variables"
      ],
      "metadata": {
        "id": "bkNdFYn5vju2"
      }
    },
    {
      "cell_type": "code",
      "source": [
        "load_loc = 'templates'\n",
        "save_loc = 'outputs'\n",
        "\n",
        "clear_workspace = False"
      ],
      "metadata": {
        "id": "B-X5FCDHvnCW"
      },
      "execution_count": null,
      "outputs": []
    },
    {
      "cell_type": "code",
      "source": [
        "os.makedirs(load_loc), os.makedirs(save_loc)"
      ],
      "metadata": {
        "id": "Ld4HXRWSzzc-"
      },
      "execution_count": null,
      "outputs": []
    },
    {
      "cell_type": "markdown",
      "source": [
        "### Stable diffusion setup"
      ],
      "metadata": {
        "id": "AzvtiDC0vbBG"
      }
    },
    {
      "cell_type": "code",
      "source": [
        "model_id_or_path = 'Ojimi/anime-kawai-diffusion'\n",
        "torch_dtype = torch.float32\n",
        "\n",
        "# model_id_or_path = \"runwayml/stable-diffusion-v1-5\"\n",
        "# torch_dtype=torch.float16"
      ],
      "metadata": {
        "id": "DjUl3G8Iu2UI"
      },
      "execution_count": null,
      "outputs": []
    },
    {
      "cell_type": "code",
      "source": [
        "# Stable diffusion pipe\n",
        "sd_pipe = StableDiffusionImg2ImgPipeline.from_pretrained(model_id_or_path, torch_dtype = torch_dtype)\n",
        "sd_pipe = sd_pipe.to('cuda')"
      ],
      "metadata": {
        "id": "aPH9CFFcvIS9"
      },
      "execution_count": null,
      "outputs": []
    },
    {
      "cell_type": "code",
      "source": [
        "def generate_temp_name():\n",
        "  temp = tempfile.NamedTemporaryFile()\n",
        "  temp_name = temp.name.split('/')[-1]\n",
        "\n",
        "  return temp_name"
      ],
      "metadata": {
        "id": "Io7TqnkQxvAM"
      },
      "execution_count": null,
      "outputs": []
    },
    {
      "cell_type": "code",
      "source": [
        "def process(image, pipe, prompt, **kwargs):\n",
        "  images = pipe(image = image, prompt = prompt, **kwargs).images\n",
        "\n",
        "  return images"
      ],
      "metadata": {
        "id": "V69PjOIdx5At"
      },
      "execution_count": null,
      "outputs": []
    },
    {
      "cell_type": "code",
      "source": [
        "def load(image_name, image_path = load_loc, shape = (400, 500), format = 'RGB'):\n",
        "  image_path = os.path.join(image_path, image_name)\n",
        "  image = Image.open(image_path).convert(format).resize(shape)\n",
        "\n",
        "  return image"
      ],
      "metadata": {
        "id": "pdAvCOLq0FVR"
      },
      "execution_count": null,
      "outputs": []
    },
    {
      "cell_type": "code",
      "source": [
        "def save(images, save_loc = save_loc):\n",
        "  temp_name = generate_temp_name()\n",
        "  image_loc = os.path.join(save_loc, f'{temp_name}.png')\n",
        "\n",
        "  images[0].save(image_loc)\n",
        "\n",
        "  return image_loc"
      ],
      "metadata": {
        "id": "i6UhQ3vcy6kb"
      },
      "execution_count": null,
      "outputs": []
    },
    {
      "cell_type": "code",
      "source": [
        "def plot(images, title):\n",
        "  plt.title(title)\n",
        "  plt.imshow(images[0])\n",
        "  plt.axis('off')\n",
        "  plt.show()"
      ],
      "metadata": {
        "id": "D_pJa5EKzF8r"
      },
      "execution_count": null,
      "outputs": []
    },
    {
      "cell_type": "markdown",
      "source": [
        "## Experiments"
      ],
      "metadata": {
        "id": "CMQ5DrMPxkUb"
      }
    },
    {
      "cell_type": "code",
      "source": [
        "image_name = 'img_6.jpg'\n",
        "\n",
        "input_image = load(image_name)"
      ],
      "metadata": {
        "id": "kxPOQvS9vIYF"
      },
      "execution_count": null,
      "outputs": []
    },
    {
      "cell_type": "code",
      "source": [
        "prompt = \"Upper body, official art, slim, beautiful, aesthetic, looking at viewer, dynamic pose, perfect angle, long hair, petite, beautiful skin, background, beautiful detailed eyes, muted color, depth of field, volumetric lighting, reflection, finest detail, ultra detailed, perfect face, epic proportion, epic composition, professional work\""
      ],
      "metadata": {
        "id": "r6cpi6zIzPI6"
      },
      "execution_count": null,
      "outputs": []
    },
    {
      "cell_type": "code",
      "source": [
        "negative_prompt = 'lowres, bad anatomy'"
      ],
      "metadata": {
        "id": "c1sU0u262v4f"
      },
      "execution_count": null,
      "outputs": []
    },
    {
      "cell_type": "code",
      "source": [
        "images = process(input_image, sd_pipe, prompt, negative_prompt = negative_prompt, strength=0.75, guidance_scale=3.5)\n",
        "output_image = save(images)\n",
        "\n",
        "print(output_image)\n",
        "plot(images, title = output_image.split('/')[-1])"
      ],
      "metadata": {
        "id": "DbjM256FyZIS"
      },
      "execution_count": null,
      "outputs": []
    },
    {
      "cell_type": "code",
      "source": [
        "if clear_workspace:\n",
        "  ! rm outputs/*"
      ],
      "metadata": {
        "id": "Uc2_9nLKvIdC"
      },
      "execution_count": null,
      "outputs": []
    },
    {
      "cell_type": "code",
      "source": [],
      "metadata": {
        "id": "z_cJY7Vm4YHF"
      },
      "execution_count": null,
      "outputs": []
    }
  ]
}